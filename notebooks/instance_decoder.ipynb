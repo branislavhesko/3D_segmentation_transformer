{
 "cells": [
  {
   "cell_type": "code",
   "execution_count": 10,
   "metadata": {},
   "outputs": [
    {
     "name": "stdout",
     "output_type": "stream",
     "text": [
      "torch.Size([2, 1])\n"
     ]
    }
   ],
   "source": [
    "import torch\n",
    "import torch.nn as nn\n",
    "\n",
    "\n",
    "features = {\n",
    "    \"layer4\": torch.rand(2, 64, 192),\n",
    "    \"layer3\": torch.rand(2, 64, 192),\n",
    "    \"layer2\": torch.rand(2, 64, 192),\n",
    "    \"layer1\": torch.rand(2, 64, 192),\n",
    "}\n",
    "\n",
    "class TransformerDecoder(nn.Module):\n",
    "\n",
    "    def __init__(self, num_layers, num_queries, num_heads, hidden_dim, output_classes) -> None:\n",
    "        super().__init__()\n",
    "        self.queries = nn.Embedding(num_queries, hidden_dim)\n",
    "        self.decoder = nn.ModuleList(\n",
    "            [\n",
    "                nn.TransformerDecoderLayer(d_model=hidden_dim, nhead=num_heads, batch_first=True)\n",
    "            for _ in range(num_layers)]\n",
    "        )\n",
    "        self.classification_layer = nn.Linear(hidden_dim, output_classes)\n",
    "\n",
    "    def forward(self, features):\n",
    "        queries = self.queries.weight.unsqueeze(0).repeat(features[\"layer4\"].shape[0], 1, 1)\n",
    "        for decoder, key in zip(self.decoder, features.keys()):\n",
    "            queries = decoder(queries, features[key])\n",
    "        return self.classification_layer(queries.mean(dim=1))\n",
    "        \n",
    "\n",
    "decoder = TransformerDecoder(num_queries=100, hidden_dim=192)\n",
    "\n",
    "print(decoder(features).shape)\n"
   ]
  }
 ],
 "metadata": {
  "kernelspec": {
   "display_name": "Python 3.10.4 ('colossus')",
   "language": "python",
   "name": "python3"
  },
  "language_info": {
   "codemirror_mode": {
    "name": "ipython",
    "version": 3
   },
   "file_extension": ".py",
   "mimetype": "text/x-python",
   "name": "python",
   "nbconvert_exporter": "python",
   "pygments_lexer": "ipython3",
   "version": "3.10.4"
  },
  "orig_nbformat": 4,
  "vscode": {
   "interpreter": {
    "hash": "e6c35a7de3284dc6d49b39f9c645774a6148529021834bb0e43e7f6b73a9a42a"
   }
  }
 },
 "nbformat": 4,
 "nbformat_minor": 2
}
