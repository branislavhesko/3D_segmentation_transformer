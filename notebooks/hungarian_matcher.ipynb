{
 "cells": [
  {
   "cell_type": "code",
   "execution_count": 1,
   "metadata": {},
   "outputs": [
    {
     "data": {
      "text/plain": [
       "torch.Size([2, 10, 15])"
      ]
     },
     "execution_count": 1,
     "metadata": {},
     "output_type": "execute_result"
    }
   ],
   "source": [
    "import torch\n",
    "\n",
    "x = torch.rand(2, 15, 128, 128) > 0.5\n",
    "y = torch.rand(2, 10, 128, 128) > 0.5\n",
    "x[0, 5, 10:70, 20:100] = True\n",
    "y[0, 3, 10:70, 20:100] = True\n",
    "\n",
    "z = (x.unsqueeze(1) == y.unsqueeze(2)).sum(dim=(3, 4)) / (x.unsqueeze(1) | y.unsqueeze(2)).sum(dim=(3, 4))\n",
    "z.shape"
   ]
  },
  {
   "cell_type": "code",
   "execution_count": null,
   "metadata": {},
   "outputs": [],
   "source": []
  },
  {
   "cell_type": "code",
   "execution_count": 3,
   "metadata": {},
   "outputs": [],
   "source": [
    "from scipy.optimize import linear_sum_assignment\n",
    "import torch\n",
    "\n",
    "\n",
    "def iou_cost(prediction, target):\n",
    "    return (prediction.unsqueeze(1) == target.unsqueeze(2)).sum(dim=(3, 4)) / (prediction.unsqueeze(1) | target.unsqueeze(2)).sum(dim=(3, 4))\n",
    "\n",
    "\n",
    "class HungarianMatcher(torch.nn.Module):\n",
    "\n",
    "    def __init__(self) -> None:\n",
    "        super().__init__()\n",
    "\n",
    "    @torch.no_grad()\n",
    "    def forward(self, prediction, target):\n",
    "        matches = []\n",
    "        cost_matrix = iou_cost(prediction, target)\n",
    "        for batch in range(cost_matrix.shape[0]):\n",
    "            cm = 1 - cost_matrix[batch]\n",
    "            rows, cols = linear_sum_assignment(cm.cpu().numpy())\n",
    "            matches.append(torch.stack([torch.tensor(rows), torch.tensor(cols)], dim=1))\n",
    "        return matches\n"
   ]
  },
  {
   "cell_type": "code",
   "execution_count": null,
   "metadata": {},
   "outputs": [],
   "source": []
  },
  {
   "cell_type": "code",
   "execution_count": 4,
   "metadata": {},
   "outputs": [
    {
     "data": {
      "text/plain": [
       "[tensor([[ 0,  3],\n",
       "         [ 1, 10],\n",
       "         [ 2,  0],\n",
       "         [ 3,  5],\n",
       "         [ 4, 14],\n",
       "         [ 5, 13],\n",
       "         [ 6, 12],\n",
       "         [ 7,  8],\n",
       "         [ 8, 11],\n",
       "         [ 9,  7]]),\n",
       " tensor([[ 0,  0],\n",
       "         [ 1, 12],\n",
       "         [ 2,  6],\n",
       "         [ 3,  2],\n",
       "         [ 4,  1],\n",
       "         [ 5,  9],\n",
       "         [ 6,  7],\n",
       "         [ 7,  8],\n",
       "         [ 8,  4],\n",
       "         [ 9, 14]])]"
      ]
     },
     "execution_count": 4,
     "metadata": {},
     "output_type": "execute_result"
    }
   ],
   "source": [
    "HungarianMatcher()(x, y)"
   ]
  },
  {
   "cell_type": "code",
   "execution_count": null,
   "metadata": {},
   "outputs": [],
   "source": []
  },
  {
   "cell_type": "code",
   "execution_count": null,
   "metadata": {},
   "outputs": [],
   "source": []
  },
  {
   "cell_type": "code",
   "execution_count": null,
   "metadata": {},
   "outputs": [],
   "source": []
  },
  {
   "cell_type": "code",
   "execution_count": null,
   "metadata": {},
   "outputs": [],
   "source": []
  },
  {
   "cell_type": "code",
   "execution_count": null,
   "metadata": {},
   "outputs": [],
   "source": []
  },
  {
   "cell_type": "code",
   "execution_count": null,
   "metadata": {},
   "outputs": [],
   "source": []
  },
  {
   "cell_type": "code",
   "execution_count": null,
   "metadata": {},
   "outputs": [],
   "source": []
  },
  {
   "cell_type": "code",
   "execution_count": null,
   "metadata": {},
   "outputs": [],
   "source": []
  },
  {
   "cell_type": "code",
   "execution_count": null,
   "metadata": {},
   "outputs": [],
   "source": []
  },
  {
   "cell_type": "code",
   "execution_count": null,
   "metadata": {},
   "outputs": [],
   "source": []
  },
  {
   "cell_type": "code",
   "execution_count": null,
   "metadata": {},
   "outputs": [],
   "source": []
  }
 ],
 "metadata": {
  "kernelspec": {
   "display_name": "orange",
   "language": "python",
   "name": "python3"
  },
  "language_info": {
   "codemirror_mode": {
    "name": "ipython",
    "version": 3
   },
   "file_extension": ".py",
   "mimetype": "text/x-python",
   "name": "python",
   "nbconvert_exporter": "python",
   "pygments_lexer": "ipython3",
   "version": "3.10.8"
  },
  "orig_nbformat": 4,
  "vscode": {
   "interpreter": {
    "hash": "a24f46e18c08905063b73311e0c2ddbad1eac75523f68145519e0c8f01a40f1d"
   }
  }
 },
 "nbformat": 4,
 "nbformat_minor": 2
}
